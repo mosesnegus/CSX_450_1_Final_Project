{
 "cells": [
  {
   "cell_type": "markdown",
   "metadata": {},
   "source": [
    "# Final Exam Notebook"
   ]
  },
  {
   "cell_type": "markdown",
   "metadata": {},
   "source": [
    "#AWS Screenshot\n",
    "\n",
    "\n",
    "![AWS_screenshot](/data/AWS_screenshot.PNG)"
   ]
  },
  {
   "cell_type": "code",
   "execution_count": 3,
   "metadata": {},
   "outputs": [
    {
     "name": "stdout",
     "output_type": "stream",
     "text": [
      "[1] \"USER       PID %CPU %MEM    VSZ   RSS TTY      STAT START   TIME COMMAND\"                                                                                                                                                  \n",
      "[2] \"jovyan       1  0.0  0.0   4364   628 ?        Ss   12:44   0:00 tini -- start-notebook.sh\"                                                                                                                                \n",
      "[3] \"jovyan       5  0.0  5.7 364688 58148 ?        Sl   12:44   0:05 /opt/conda/bin/python /opt/conda/bin/jupyter-notebook\"                                                                                                    \n",
      "[4] \"jovyan      71  0.0  5.3 319640 54048 ?        Ssl  14:04   0:00 /opt/conda/lib/R/bin/exec/R --slave -e IRkernel::main() --args /home/jovyan/.local/share/jupyter/runtime/kernel-b34ecbdc-9402-44b3-8a71-a9ee178e73f0.json\"\n",
      "[5] \"jovyan      83  0.0  0.0   4504   844 ?        S    23:42   0:00 sh -c ps -aux\"                                                                                                                                            \n",
      "[6] \"jovyan      84  0.0  0.3  36084  3044 ?        R    23:42   0:00 ps -aux\"                                                                                                                                                  \n"
     ]
    }
   ],
   "source": [
    "print(system(\"ps -aux\", intern = TRUE))"
   ]
  },
  {
   "cell_type": "markdown",
   "metadata": {},
   "source": [
    "#How can tis command be interpreted to show how long your jupyter system has been running?\n",
    "#By looking at the time stamps we can see how long our system has been running. "
   ]
  },
  {
   "cell_type": "markdown",
   "metadata": {},
   "source": [
    "# What is the length and the magnitude of the vector, (2,5,3,6,2,7,4,5,6)"
   ]
  },
  {
   "cell_type": "code",
   "execution_count": 1,
   "metadata": {},
   "outputs": [
    {
     "name": "stdout",
     "output_type": "stream",
     "text": [
      "length is 9  magnitude is 14.28286"
     ]
    }
   ],
   "source": [
    "# length and the magnitude\n",
    "x = c(2,5,3,6,2,7,4,5,6)\n",
    "cat(\"length is\", as.character(length(x)), \" \")\n",
    "cat(\"magnitude is\", norm(x, type=\"2\"))"
   ]
  },
  {
   "cell_type": "markdown",
   "metadata": {},
   "source": [
    "#Solve to prove that the line through:\n",
    "(3,4) and (-1,2) is \n",
    "y= 0.5x+2.5"
   ]
  },
  {
   "cell_type": "code",
   "execution_count": 31,
   "metadata": {},
   "outputs": [],
   "source": [
    "A = rbind(c(1,3),c(1,-1))\n",
    "B = c(4,2)"
   ]
  },
  {
   "cell_type": "code",
   "execution_count": 32,
   "metadata": {},
   "outputs": [
    {
     "data": {
      "text/html": [
       "<ol class=list-inline>\n",
       "\t<li>2.5</li>\n",
       "\t<li>0.5</li>\n",
       "</ol>\n"
      ],
      "text/latex": [
       "\\begin{enumerate*}\n",
       "\\item 2.5\n",
       "\\item 0.5\n",
       "\\end{enumerate*}\n"
      ],
      "text/markdown": [
       "1. 2.5\n",
       "2. 0.5\n",
       "\n",
       "\n"
      ],
      "text/plain": [
       "[1] 2.5 0.5"
      ]
     },
     "metadata": {},
     "output_type": "display_data"
    }
   ],
   "source": [
    "# R will solve\n",
    "xx = solve(A,B)\n",
    "xx"
   ]
  },
  {
   "cell_type": "markdown",
   "metadata": {},
   "source": [
    "#Tree output from BASH\n",
    "\n",
    "ubuntu@ip-172-31-20-216:~/CSX_450_1_final_exam$ tree\n",
    ".\n",
    "├── data\n",
    "│   ├── abalone.data\n",
    "│   ├── abalone.names\n",
    "│   ├── AWS_screenshot.PNG\n",
    "│   └── NewAWSInstance.JPG\n",
    "├── ipynb\n",
    "│   ├── abalone_data_description.ipynb\n",
    "│   ├── data_description.ipynb\n",
    "│   └── Final_Notebook.ipynb\n",
    "└── README.md\n",
    "\n",
    "2 directories, 8 files"
   ]
  }
 ],
 "metadata": {
  "kernelspec": {
   "display_name": "R",
   "language": "R",
   "name": "ir"
  },
  "language_info": {
   "codemirror_mode": "r",
   "file_extension": ".r",
   "mimetype": "text/x-r-source",
   "name": "R",
   "pygments_lexer": "r",
   "version": "3.3.2"
  }
 },
 "nbformat": 4,
 "nbformat_minor": 2
}
